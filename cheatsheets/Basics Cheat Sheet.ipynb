{
 "cells": [
  {
   "cell_type": "markdown",
   "metadata": {},
   "source": [
    "## Basics Cheat Sheet"
   ]
  },
  {
   "cell_type": "markdown",
   "metadata": {},
   "source": [
    "**Jupyter Lab Docs & Tutorials:** \n",
    "* https://ipython-books.github.io/36-introducing-jupyterlab/ \n",
    "* https://jupyterlab.readthedocs.io/en/stable/\n",
    "* Jupyter Introduction: https://www.youtube.com/watch?v=w7jq4XgwLJQ"
   ]
  },
  {
   "cell_type": "markdown",
   "metadata": {},
   "source": [
    "**Guide to Markdown syntax:** </br> https://guides.github.com/pdfs/markdown-cheatsheet-online.pdf\n"
   ]
  },
  {
   "cell_type": "markdown",
   "metadata": {},
   "source": [
    "**Cell command shortcuts:** </br>\n",
    "* **a** : Insert a new cell above the current cell \n",
    "* **b** : Insert a new cell below\n",
    "* **x** : Delete cell\n",
    "* **m** : Change cell to Markdown\n",
    "* **y** : Change cell to code\n",
    "* **Shift + Enter** : Run cell"
   ]
  },
  {
   "cell_type": "markdown",
   "metadata": {},
   "source": [
    "**Binder Tutorials:** </br>\n",
    "* https://github.com/binder-examples/jupyterlab\n",
    "* https://github.com/binder-examples/getting-data"
   ]
  },
  {
   "cell_type": "markdown",
   "metadata": {},
   "source": [
    "**Python help & tutorials:** </br> \n",
    "* https://realpython.com (Recommended)\n",
    "* https://w3schools.com/python\n",
    "* https://tutorialspoint.com/python/index\n",
    "* https://codecademy.com/learn/learn-python-3"
   ]
  },
  {
   "cell_type": "markdown",
   "metadata": {},
   "source": [
    "**Blog Posts:**\n",
    "* [Informatics Lab Blog](https://medium.com/informatics-lab)\n",
    "* [Jupyter Blog](https://blog.jupyter.org/)\n",
    "* [How to build an Intake Catalogue](https://medium.com/informatics-lab/archive-how-to-build-an-intake-catalog-c49182297572)\n",
    "* [Netflix Tech Blog](https://medium.com/@NetflixTechBlog)"
   ]
  },
  {
   "cell_type": "code",
   "execution_count": null,
   "metadata": {},
   "outputs": [],
   "source": []
  }
 ],
 "metadata": {
  "kernelspec": {
   "display_name": "Python 3",
   "language": "python",
   "name": "python3"
  },
  "language_info": {
   "codemirror_mode": {
    "name": "ipython",
    "version": 3
   },
   "file_extension": ".py",
   "mimetype": "text/x-python",
   "name": "python",
   "nbconvert_exporter": "python",
   "pygments_lexer": "ipython3",
   "version": "3.7.4"
  }
 },
 "nbformat": 4,
 "nbformat_minor": 4
}
