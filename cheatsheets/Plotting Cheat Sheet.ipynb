{
 "cells": [
  {
   "cell_type": "markdown",
   "metadata": {},
   "source": [
    "## Plotting Libraries"
   ]
  },
  {
   "cell_type": "markdown",
   "metadata": {},
   "source": [
    "**Link to PyViz plotting libraries:** </br> https://pyviz.org/tools.html"
   ]
  },
  {
   "cell_type": "markdown",
   "metadata": {},
   "source": [
    "**Python Vis Libraries:** </br>\n",
    "* [Plotting with Iris](https://scitools.org.uk/iris/docs/v2.0/userguide/plotting_a_cube.html)\n",
    "* [Bokeh](https://docs.bokeh.org/en/0.12.15/)\n",
    "* [Holoviews](http://holoviews.org)\n",
    "* [Geoviews](http://geoviews.org)\n",
    "* [Matplotlib](http://matplotlib.org)\n",
    "* [Geoplotlib](https://pypi.org/project/geoplotlib/)"
   ]
  },
  {
   "cell_type": "markdown",
   "metadata": {},
   "source": [
    "**Tephigram:** </br> http://pypi.org/project/tephi"
   ]
  }
 ],
 "metadata": {
  "kernelspec": {
   "display_name": "Python 3",
   "language": "python",
   "name": "python3"
  },
  "language_info": {
   "codemirror_mode": {
    "name": "ipython",
    "version": 3
   },
   "file_extension": ".py",
   "mimetype": "text/x-python",
   "name": "python",
   "nbconvert_exporter": "python",
   "pygments_lexer": "ipython3",
   "version": "3.7.4"
  }
 },
 "nbformat": 4,
 "nbformat_minor": 4
}
