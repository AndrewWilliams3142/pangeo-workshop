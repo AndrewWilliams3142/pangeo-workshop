{
 "cells": [
  {
   "cell_type": "markdown",
   "metadata": {},
   "source": [
    "## Collaboration & Version Control Cheat Sheet"
   ]
  },
  {
   "cell_type": "markdown",
   "metadata": {},
   "source": [
    "**GitHub:** </br>\n",
    "* https://github.com\n",
    "* [Cheatsheet](https://github.github.com/training-kit/downloads/github-git-cheat-sheet.pdf)\n",
    "* [Intro to GitHub](https://product.hubspot.com/blog/git-and-github-tutorial-for-beginners)"
   ]
  },
  {
   "cell_type": "markdown",
   "metadata": {},
   "source": [
    "**Intro to Git:**\n",
    "* [Git Basics](https://git-scm.com/book/en/v1/Getting-Started-Git-Basics)"
   ]
  },
  {
   "cell_type": "markdown",
   "metadata": {},
   "source": [
    "**Environments:**\n",
    "* [Conda User Guide](https://docs.conda.io/projects/conda/en/latest/user-guide/getting-started.html)\n",
    "* [Managing packages with Conda](https://docs.conda.io/projects/conda/en/latest/user-guide/tasks/manage-pkgs.html)"
   ]
  },
  {
   "cell_type": "markdown",
   "metadata": {},
   "source": [
    "**Binder Examples:** \n",
    "* https://github.com/binder-examples/python-conda_pip\n",
    "* https://github.com/binder-examples/conda"
   ]
  }
 ],
 "metadata": {
  "kernelspec": {
   "display_name": "Python 3",
   "language": "python",
   "name": "python3"
  },
  "language_info": {
   "codemirror_mode": {
    "name": "ipython",
    "version": 3
   },
   "file_extension": ".py",
   "mimetype": "text/x-python",
   "name": "python",
   "nbconvert_exporter": "python",
   "pygments_lexer": "ipython3",
   "version": "3.7.4"
  }
 },
 "nbformat": 4,
 "nbformat_minor": 4
}
